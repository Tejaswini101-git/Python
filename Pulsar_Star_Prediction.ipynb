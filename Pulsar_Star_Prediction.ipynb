{
  "nbformat": 4,
  "nbformat_minor": 0,
  "metadata": {
    "kernelspec": {
      "display_name": "Python 3",
      "language": "python",
      "name": "python3"
    },
    "language_info": {
      "codemirror_mode": {
        "name": "ipython",
        "version": 3
      },
      "file_extension": ".py",
      "mimetype": "text/x-python",
      "name": "python",
      "nbconvert_exporter": "python",
      "pygments_lexer": "ipython3",
      "version": "3.7.4"
    },
    "colab": {
      "name": "Pulsar Star Prediction",
      "provenance": [],
      "collapsed_sections": [
        "ydP-VCqNu6FE",
        "mCF3OplMu6FK",
        "MNcEYT0nu6FW",
        "Uk2Alguru6Fb",
        "LtZr7E9Tu6Fm",
        "4UWmGRVlu6Fp",
        "tONRk5qBu6F5",
        "dREXYn0Ju6F_",
        "1qAgFD_Hu6GH",
        "mOhaDlpZu6GO",
        "hzu9eb84u6GY",
        "bfvDdNbgu6GZ",
        "YTl0cxkCu6Ga",
        "eY3IKfvQu6Gd",
        "cV7lnhROu6Gu",
        "PiHr3HpOu6Gu",
        "FiSidymfu6Gv",
        "xX4JIwh3u6Gw",
        "oLkR6cCEu6Gx",
        "NDdZdBBPu6Gy"
      ]
    }
  },
  "cells": [
    {
      "cell_type": "markdown",
      "metadata": {
        "id": "fIvbFdVvu6Ep",
        "colab_type": "text"
      },
      "source": [
        ""
      ]
    },
    {
      "cell_type": "markdown",
      "metadata": {
        "id": "GAE5qar9u6Er",
        "colab_type": "text"
      },
      "source": [
        "# PREDICTING A PULSAR STAR"
      ]
    },
    {
      "cell_type": "markdown",
      "metadata": {
        "id": "5TSEo0kGu87V",
        "colab_type": "text"
      },
      "source": [
        ""
      ]
    },
    {
      "cell_type": "markdown",
      "metadata": {
        "id": "s6JSgIV7u6Er",
        "colab_type": "text"
      },
      "source": [
        "# Abstract"
      ]
    },
    {
      "cell_type": "markdown",
      "metadata": {
        "id": "p3_OodZPu6Es",
        "colab_type": "text"
      },
      "source": [
        "\n",
        "Data set Used: HTRU2 is a data set which describes a sample of pulsar candidates collected during the High Time Resolution Universe Survey.Each candidate is described by 8 continuous variables, and a single class variable. The first four are simple statistics obtained from the integrated pulse profile (folded profile). This is an array of continuous variables that describe a longitude-resolved version of the signal that has been averaged in both time and frequency . The remaining four variables are similarly obtained from the DM-SNR curve."
      ]
    },
    {
      "cell_type": "markdown",
      "metadata": {
        "id": "_VLoAWoQu6Es",
        "colab_type": "text"
      },
      "source": [
        "This notebook mainly includes the comparison of algorithms which predicts whether the given point is a pulsar star or not. The steps followed are: "
      ]
    },
    {
      "cell_type": "markdown",
      "metadata": {
        "id": "KVqpEs65u6Et",
        "colab_type": "text"
      },
      "source": [
        "1.  Importing necessary packages\n",
        "2.  Data Preprocessing: dealing with the missing values, converting variables to categorical variables\n",
        "3.  Checking correlation between fields\n",
        "4.  Splitting data into separate training and test set \n",
        "5.  Feature Scaling\n",
        "6.  SVM\n",
        "7.  Confusion Matrix \n",
        "8.  KNN\n",
        "9.  Random Forest Classifier\n",
        "10. Model Comparision\n",
        "11. Answers of the questions\n",
        "12. Conclusion\n",
        "13. Citations\n",
        "14. License"
      ]
    },
    {
      "cell_type": "markdown",
      "metadata": {
        "id": "-FOd0GBGu6Eu",
        "colab_type": "text"
      },
      "source": [
        "# 1. Importing necessary packages"
      ]
    },
    {
      "cell_type": "code",
      "metadata": {
        "id": "sBaSUWMQu6Ev",
        "colab_type": "code",
        "colab": {}
      },
      "source": [
        "import pandas as pd\n",
        "import matplotlib.pyplot as plt    \n",
        "import seaborn as sns              \n",
        "%matplotlib inline"
      ],
      "execution_count": 0,
      "outputs": []
    },
    {
      "cell_type": "code",
      "metadata": {
        "id": "QTNIBY8Iu6Ey",
        "colab_type": "code",
        "colab": {}
      },
      "source": [
        "df = pd.read_csv(\"C:\\\\Users\\\\tejas\\\\Desktop\\\\ADS\\\\Assignments\\\\Assignment 1\\\\predicting-a-pulsar-star\\\\pulsar_stars.csv\")"
      ],
      "execution_count": 0,
      "outputs": []
    },
    {
      "cell_type": "code",
      "metadata": {
        "id": "uqzmoWcXu6E0",
        "colab_type": "code",
        "colab": {},
        "outputId": "810c1b78-2a43-4d27-90f6-e73b9d29013d"
      },
      "source": [
        "df.shape"
      ],
      "execution_count": 0,
      "outputs": [
        {
          "output_type": "execute_result",
          "data": {
            "text/plain": [
              "(17898, 9)"
            ]
          },
          "metadata": {
            "tags": []
          },
          "execution_count": 3
        }
      ]
    },
    {
      "cell_type": "code",
      "metadata": {
        "id": "4G5oRJFDu6E3",
        "colab_type": "code",
        "colab": {},
        "outputId": "f9d10c1b-6393-44fa-a39b-e151f91bc99c"
      },
      "source": [
        "df.head(5)"
      ],
      "execution_count": 0,
      "outputs": [
        {
          "output_type": "execute_result",
          "data": {
            "text/html": [
              "<div>\n",
              "<style scoped>\n",
              "    .dataframe tbody tr th:only-of-type {\n",
              "        vertical-align: middle;\n",
              "    }\n",
              "\n",
              "    .dataframe tbody tr th {\n",
              "        vertical-align: top;\n",
              "    }\n",
              "\n",
              "    .dataframe thead th {\n",
              "        text-align: right;\n",
              "    }\n",
              "</style>\n",
              "<table border=\"1\" class=\"dataframe\">\n",
              "  <thead>\n",
              "    <tr style=\"text-align: right;\">\n",
              "      <th></th>\n",
              "      <th>Mean of the integrated profile</th>\n",
              "      <th>Standard deviation of the integrated profile</th>\n",
              "      <th>Excess kurtosis of the integrated profile</th>\n",
              "      <th>Skewness of the integrated profile</th>\n",
              "      <th>Mean of the DM-SNR curve</th>\n",
              "      <th>Standard deviation of the DM-SNR curve</th>\n",
              "      <th>Excess kurtosis of the DM-SNR curve</th>\n",
              "      <th>Skewness of the DM-SNR curve</th>\n",
              "      <th>target_class</th>\n",
              "    </tr>\n",
              "  </thead>\n",
              "  <tbody>\n",
              "    <tr>\n",
              "      <td>0</td>\n",
              "      <td>140.562500</td>\n",
              "      <td>55.683782</td>\n",
              "      <td>-0.234571</td>\n",
              "      <td>-0.699648</td>\n",
              "      <td>3.199833</td>\n",
              "      <td>19.110426</td>\n",
              "      <td>7.975532</td>\n",
              "      <td>74.242225</td>\n",
              "      <td>0</td>\n",
              "    </tr>\n",
              "    <tr>\n",
              "      <td>1</td>\n",
              "      <td>102.507812</td>\n",
              "      <td>58.882430</td>\n",
              "      <td>0.465318</td>\n",
              "      <td>-0.515088</td>\n",
              "      <td>1.677258</td>\n",
              "      <td>14.860146</td>\n",
              "      <td>10.576487</td>\n",
              "      <td>127.393580</td>\n",
              "      <td>0</td>\n",
              "    </tr>\n",
              "    <tr>\n",
              "      <td>2</td>\n",
              "      <td>103.015625</td>\n",
              "      <td>39.341649</td>\n",
              "      <td>0.323328</td>\n",
              "      <td>1.051164</td>\n",
              "      <td>3.121237</td>\n",
              "      <td>21.744669</td>\n",
              "      <td>7.735822</td>\n",
              "      <td>63.171909</td>\n",
              "      <td>0</td>\n",
              "    </tr>\n",
              "    <tr>\n",
              "      <td>3</td>\n",
              "      <td>136.750000</td>\n",
              "      <td>57.178449</td>\n",
              "      <td>-0.068415</td>\n",
              "      <td>-0.636238</td>\n",
              "      <td>3.642977</td>\n",
              "      <td>20.959280</td>\n",
              "      <td>6.896499</td>\n",
              "      <td>53.593661</td>\n",
              "      <td>0</td>\n",
              "    </tr>\n",
              "    <tr>\n",
              "      <td>4</td>\n",
              "      <td>88.726562</td>\n",
              "      <td>40.672225</td>\n",
              "      <td>0.600866</td>\n",
              "      <td>1.123492</td>\n",
              "      <td>1.178930</td>\n",
              "      <td>11.468720</td>\n",
              "      <td>14.269573</td>\n",
              "      <td>252.567306</td>\n",
              "      <td>0</td>\n",
              "    </tr>\n",
              "  </tbody>\n",
              "</table>\n",
              "</div>"
            ],
            "text/plain": [
              "    Mean of the integrated profile  \\\n",
              "0                       140.562500   \n",
              "1                       102.507812   \n",
              "2                       103.015625   \n",
              "3                       136.750000   \n",
              "4                        88.726562   \n",
              "\n",
              "    Standard deviation of the integrated profile  \\\n",
              "0                                      55.683782   \n",
              "1                                      58.882430   \n",
              "2                                      39.341649   \n",
              "3                                      57.178449   \n",
              "4                                      40.672225   \n",
              "\n",
              "    Excess kurtosis of the integrated profile  \\\n",
              "0                                   -0.234571   \n",
              "1                                    0.465318   \n",
              "2                                    0.323328   \n",
              "3                                   -0.068415   \n",
              "4                                    0.600866   \n",
              "\n",
              "    Skewness of the integrated profile   Mean of the DM-SNR curve  \\\n",
              "0                            -0.699648                   3.199833   \n",
              "1                            -0.515088                   1.677258   \n",
              "2                             1.051164                   3.121237   \n",
              "3                            -0.636238                   3.642977   \n",
              "4                             1.123492                   1.178930   \n",
              "\n",
              "    Standard deviation of the DM-SNR curve  \\\n",
              "0                                19.110426   \n",
              "1                                14.860146   \n",
              "2                                21.744669   \n",
              "3                                20.959280   \n",
              "4                                11.468720   \n",
              "\n",
              "    Excess kurtosis of the DM-SNR curve   Skewness of the DM-SNR curve  \\\n",
              "0                              7.975532                      74.242225   \n",
              "1                             10.576487                     127.393580   \n",
              "2                              7.735822                      63.171909   \n",
              "3                              6.896499                      53.593661   \n",
              "4                             14.269573                     252.567306   \n",
              "\n",
              "   target_class  \n",
              "0             0  \n",
              "1             0  \n",
              "2             0  \n",
              "3             0  \n",
              "4             0  "
            ]
          },
          "metadata": {
            "tags": []
          },
          "execution_count": 4
        }
      ]
    },
    {
      "cell_type": "code",
      "metadata": {
        "id": "KqGXyrxku6E6",
        "colab_type": "code",
        "colab": {},
        "outputId": "5728c115-a319-48c6-e98d-690c406ac50d"
      },
      "source": [
        "df.describe()"
      ],
      "execution_count": 0,
      "outputs": [
        {
          "output_type": "execute_result",
          "data": {
            "text/html": [
              "<div>\n",
              "<style scoped>\n",
              "    .dataframe tbody tr th:only-of-type {\n",
              "        vertical-align: middle;\n",
              "    }\n",
              "\n",
              "    .dataframe tbody tr th {\n",
              "        vertical-align: top;\n",
              "    }\n",
              "\n",
              "    .dataframe thead th {\n",
              "        text-align: right;\n",
              "    }\n",
              "</style>\n",
              "<table border=\"1\" class=\"dataframe\">\n",
              "  <thead>\n",
              "    <tr style=\"text-align: right;\">\n",
              "      <th></th>\n",
              "      <th>Mean of the integrated profile</th>\n",
              "      <th>Standard deviation of the integrated profile</th>\n",
              "      <th>Excess kurtosis of the integrated profile</th>\n",
              "      <th>Skewness of the integrated profile</th>\n",
              "      <th>Mean of the DM-SNR curve</th>\n",
              "      <th>Standard deviation of the DM-SNR curve</th>\n",
              "      <th>Excess kurtosis of the DM-SNR curve</th>\n",
              "      <th>Skewness of the DM-SNR curve</th>\n",
              "      <th>target_class</th>\n",
              "    </tr>\n",
              "  </thead>\n",
              "  <tbody>\n",
              "    <tr>\n",
              "      <td>count</td>\n",
              "      <td>17898.000000</td>\n",
              "      <td>17898.000000</td>\n",
              "      <td>17898.000000</td>\n",
              "      <td>17898.000000</td>\n",
              "      <td>17898.000000</td>\n",
              "      <td>17898.000000</td>\n",
              "      <td>17898.000000</td>\n",
              "      <td>17898.000000</td>\n",
              "      <td>17898.000000</td>\n",
              "    </tr>\n",
              "    <tr>\n",
              "      <td>mean</td>\n",
              "      <td>111.079968</td>\n",
              "      <td>46.549532</td>\n",
              "      <td>0.477857</td>\n",
              "      <td>1.770279</td>\n",
              "      <td>12.614400</td>\n",
              "      <td>26.326515</td>\n",
              "      <td>8.303556</td>\n",
              "      <td>104.857709</td>\n",
              "      <td>0.091574</td>\n",
              "    </tr>\n",
              "    <tr>\n",
              "      <td>std</td>\n",
              "      <td>25.652935</td>\n",
              "      <td>6.843189</td>\n",
              "      <td>1.064040</td>\n",
              "      <td>6.167913</td>\n",
              "      <td>29.472897</td>\n",
              "      <td>19.470572</td>\n",
              "      <td>4.506092</td>\n",
              "      <td>106.514540</td>\n",
              "      <td>0.288432</td>\n",
              "    </tr>\n",
              "    <tr>\n",
              "      <td>min</td>\n",
              "      <td>5.812500</td>\n",
              "      <td>24.772042</td>\n",
              "      <td>-1.876011</td>\n",
              "      <td>-1.791886</td>\n",
              "      <td>0.213211</td>\n",
              "      <td>7.370432</td>\n",
              "      <td>-3.139270</td>\n",
              "      <td>-1.976976</td>\n",
              "      <td>0.000000</td>\n",
              "    </tr>\n",
              "    <tr>\n",
              "      <td>25%</td>\n",
              "      <td>100.929688</td>\n",
              "      <td>42.376018</td>\n",
              "      <td>0.027098</td>\n",
              "      <td>-0.188572</td>\n",
              "      <td>1.923077</td>\n",
              "      <td>14.437332</td>\n",
              "      <td>5.781506</td>\n",
              "      <td>34.960504</td>\n",
              "      <td>0.000000</td>\n",
              "    </tr>\n",
              "    <tr>\n",
              "      <td>50%</td>\n",
              "      <td>115.078125</td>\n",
              "      <td>46.947479</td>\n",
              "      <td>0.223240</td>\n",
              "      <td>0.198710</td>\n",
              "      <td>2.801839</td>\n",
              "      <td>18.461316</td>\n",
              "      <td>8.433515</td>\n",
              "      <td>83.064556</td>\n",
              "      <td>0.000000</td>\n",
              "    </tr>\n",
              "    <tr>\n",
              "      <td>75%</td>\n",
              "      <td>127.085938</td>\n",
              "      <td>51.023202</td>\n",
              "      <td>0.473325</td>\n",
              "      <td>0.927783</td>\n",
              "      <td>5.464256</td>\n",
              "      <td>28.428104</td>\n",
              "      <td>10.702959</td>\n",
              "      <td>139.309331</td>\n",
              "      <td>0.000000</td>\n",
              "    </tr>\n",
              "    <tr>\n",
              "      <td>max</td>\n",
              "      <td>192.617188</td>\n",
              "      <td>98.778911</td>\n",
              "      <td>8.069522</td>\n",
              "      <td>68.101622</td>\n",
              "      <td>223.392140</td>\n",
              "      <td>110.642211</td>\n",
              "      <td>34.539844</td>\n",
              "      <td>1191.000837</td>\n",
              "      <td>1.000000</td>\n",
              "    </tr>\n",
              "  </tbody>\n",
              "</table>\n",
              "</div>"
            ],
            "text/plain": [
              "        Mean of the integrated profile  \\\n",
              "count                     17898.000000   \n",
              "mean                        111.079968   \n",
              "std                          25.652935   \n",
              "min                           5.812500   \n",
              "25%                         100.929688   \n",
              "50%                         115.078125   \n",
              "75%                         127.085938   \n",
              "max                         192.617188   \n",
              "\n",
              "        Standard deviation of the integrated profile  \\\n",
              "count                                   17898.000000   \n",
              "mean                                       46.549532   \n",
              "std                                         6.843189   \n",
              "min                                        24.772042   \n",
              "25%                                        42.376018   \n",
              "50%                                        46.947479   \n",
              "75%                                        51.023202   \n",
              "max                                        98.778911   \n",
              "\n",
              "        Excess kurtosis of the integrated profile  \\\n",
              "count                                17898.000000   \n",
              "mean                                     0.477857   \n",
              "std                                      1.064040   \n",
              "min                                     -1.876011   \n",
              "25%                                      0.027098   \n",
              "50%                                      0.223240   \n",
              "75%                                      0.473325   \n",
              "max                                      8.069522   \n",
              "\n",
              "        Skewness of the integrated profile   Mean of the DM-SNR curve  \\\n",
              "count                         17898.000000               17898.000000   \n",
              "mean                              1.770279                  12.614400   \n",
              "std                               6.167913                  29.472897   \n",
              "min                              -1.791886                   0.213211   \n",
              "25%                              -0.188572                   1.923077   \n",
              "50%                               0.198710                   2.801839   \n",
              "75%                               0.927783                   5.464256   \n",
              "max                              68.101622                 223.392140   \n",
              "\n",
              "        Standard deviation of the DM-SNR curve  \\\n",
              "count                             17898.000000   \n",
              "mean                                 26.326515   \n",
              "std                                  19.470572   \n",
              "min                                   7.370432   \n",
              "25%                                  14.437332   \n",
              "50%                                  18.461316   \n",
              "75%                                  28.428104   \n",
              "max                                 110.642211   \n",
              "\n",
              "        Excess kurtosis of the DM-SNR curve   Skewness of the DM-SNR curve  \\\n",
              "count                          17898.000000                   17898.000000   \n",
              "mean                               8.303556                     104.857709   \n",
              "std                                4.506092                     106.514540   \n",
              "min                               -3.139270                      -1.976976   \n",
              "25%                                5.781506                      34.960504   \n",
              "50%                                8.433515                      83.064556   \n",
              "75%                               10.702959                     139.309331   \n",
              "max                               34.539844                    1191.000837   \n",
              "\n",
              "       target_class  \n",
              "count  17898.000000  \n",
              "mean       0.091574  \n",
              "std        0.288432  \n",
              "min        0.000000  \n",
              "25%        0.000000  \n",
              "50%        0.000000  \n",
              "75%        0.000000  \n",
              "max        1.000000  "
            ]
          },
          "metadata": {
            "tags": []
          },
          "execution_count": 5
        }
      ]
    },
    {
      "cell_type": "code",
      "metadata": {
        "id": "Uh12qSM5u6E9",
        "colab_type": "code",
        "colab": {},
        "outputId": "51903b47-1e1f-4129-9267-1bc946516ab0"
      },
      "source": [
        "df.columns"
      ],
      "execution_count": 0,
      "outputs": [
        {
          "output_type": "execute_result",
          "data": {
            "text/plain": [
              "Index([' Mean of the integrated profile',\n",
              "       ' Standard deviation of the integrated profile',\n",
              "       ' Excess kurtosis of the integrated profile',\n",
              "       ' Skewness of the integrated profile', ' Mean of the DM-SNR curve',\n",
              "       ' Standard deviation of the DM-SNR curve',\n",
              "       ' Excess kurtosis of the DM-SNR curve', ' Skewness of the DM-SNR curve',\n",
              "       'target_class'],\n",
              "      dtype='object')"
            ]
          },
          "metadata": {
            "tags": []
          },
          "execution_count": 6
        }
      ]
    },
    {
      "cell_type": "markdown",
      "metadata": {
        "id": "ssUFfckwu6FA",
        "colab_type": "text"
      },
      "source": [
        "renaming the columns "
      ]
    },
    {
      "cell_type": "code",
      "metadata": {
        "id": "frY5jqWBu6FB",
        "colab_type": "code",
        "colab": {}
      },
      "source": [
        "df.columns = ['IP Mean', 'IP Sd', 'IP Kurtosis', 'IP Skewness', \n",
        "              'DM-SNR Mean', 'DM-SNR Sd', 'DM-SNR Kurtosis', 'DM-SNR Skewness', 'target_class']"
      ],
      "execution_count": 0,
      "outputs": []
    },
    {
      "cell_type": "markdown",
      "metadata": {
        "id": "ydP-VCqNu6FE",
        "colab_type": "text"
      },
      "source": [
        "# 2. Data Preprocessing: dealing with the missing values, converting variables to categorical variables"
      ]
    },
    {
      "cell_type": "markdown",
      "metadata": {
        "id": "qZIHs6mSu6FF",
        "colab_type": "text"
      },
      "source": [
        "Explore missing values in variables"
      ]
    },
    {
      "cell_type": "code",
      "metadata": {
        "id": "KxSEJfVEu6FF",
        "colab_type": "code",
        "colab": {},
        "outputId": "3fe59b7b-9f1a-4ee2-8017-9440f03a5355"
      },
      "source": [
        "df.isnull().sum()"
      ],
      "execution_count": 0,
      "outputs": [
        {
          "output_type": "execute_result",
          "data": {
            "text/plain": [
              "IP Mean            0\n",
              "IP Sd              0\n",
              "IP Kurtosis        0\n",
              "IP Skewness        0\n",
              "DM-SNR Mean        0\n",
              "DM-SNR Sd          0\n",
              "DM-SNR Kurtosis    0\n",
              "DM-SNR Skewness    0\n",
              "target_class       0\n",
              "dtype: int64"
            ]
          },
          "metadata": {
            "tags": []
          },
          "execution_count": 8
        }
      ]
    },
    {
      "cell_type": "code",
      "metadata": {
        "id": "4PMj2Np9u6FH",
        "colab_type": "code",
        "colab": {},
        "outputId": "a90a5092-46b1-4c5c-926b-d1801e66beb9"
      },
      "source": [
        "df.info()"
      ],
      "execution_count": 0,
      "outputs": [
        {
          "output_type": "stream",
          "text": [
            "<class 'pandas.core.frame.DataFrame'>\n",
            "RangeIndex: 17898 entries, 0 to 17897\n",
            "Data columns (total 9 columns):\n",
            "IP Mean            17898 non-null float64\n",
            "IP Sd              17898 non-null float64\n",
            "IP Kurtosis        17898 non-null float64\n",
            "IP Skewness        17898 non-null float64\n",
            "DM-SNR Mean        17898 non-null float64\n",
            "DM-SNR Sd          17898 non-null float64\n",
            "DM-SNR Kurtosis    17898 non-null float64\n",
            "DM-SNR Skewness    17898 non-null float64\n",
            "target_class       17898 non-null int64\n",
            "dtypes: float64(8), int64(1)\n",
            "memory usage: 1.2 MB\n"
          ],
          "name": "stdout"
        }
      ]
    },
    {
      "cell_type": "markdown",
      "metadata": {
        "id": "pQi4vpOmu6FK",
        "colab_type": "text"
      },
      "source": [
        "Summary of numerical variables\n",
        "There are 9 numerical variables in the dataset.\n",
        "8 are continuous variables and 1 is discrete variable.\n",
        "The discrete variable is target_class variable. It is also the target variable.\n",
        "There are no missing values in the dataset.\n"
      ]
    },
    {
      "cell_type": "markdown",
      "metadata": {
        "id": "mCF3OplMu6FK",
        "colab_type": "text"
      },
      "source": [
        "# 3. Checking correlation between fields"
      ]
    },
    {
      "cell_type": "code",
      "metadata": {
        "id": "pxTCVQo9u6FN",
        "colab_type": "code",
        "colab": {},
        "outputId": "7208c525-b6fb-48c3-8c4e-03a6a24851b3"
      },
      "source": [
        "plt.figure(figsize=(16,16))\n",
        "sns.heatmap(data=df.corr(),annot=True,cmap=\"bone\",linewidths=1,fmt=\".2f\",linecolor=\"gray\")\n",
        "plt.title(\"Correlation Map\",fontsize=23)\n",
        "plt.tight_layout()\n",
        "plt.show() "
      ],
      "execution_count": 0,
      "outputs": [
        {
          "output_type": "display_data",
          "data": {
            "image/png": "[encoded data removed]",
            "text/plain": [
              "<Figure size 1152x1152 with 2 Axes>"
            ]
          },
          "metadata": {
            "tags": [],
            "needs_background": "light"
          }
        }
      ]
    },
    {
      "cell_type": "markdown",
      "metadata": {
        "id": "cCNuYJrIu6FQ",
        "colab_type": "text"
      },
      "source": [
        "Lets check if the dataset have any outliers"
      ]
    },
    {
      "cell_type": "code",
      "metadata": {
        "id": "xWZAlwP6u6FQ",
        "colab_type": "code",
        "colab": {},
        "outputId": "edabb5a4-37f3-4308-f9fa-5126b8f608b6"
      },
      "source": [
        "# draw boxplots to visualize outliers\n",
        "\n",
        "plt.figure(figsize=(24,20))\n",
        "\n",
        "\n",
        "plt.subplot(4, 2, 1)\n",
        "fig = df.boxplot(column='IP Mean')\n",
        "fig.set_title('')\n",
        "fig.set_ylabel('IP Mean')\n",
        "\n",
        "\n",
        "plt.subplot(4, 2, 2)\n",
        "fig = df.boxplot(column='IP Sd')\n",
        "fig.set_title('')\n",
        "fig.set_ylabel('IP Sd')\n",
        "\n",
        "\n",
        "plt.subplot(4, 2, 3)\n",
        "fig = df.boxplot(column='IP Kurtosis')\n",
        "fig.set_title('')\n",
        "fig.set_ylabel('IP Kurtosis')\n",
        "\n",
        "\n",
        "plt.subplot(4, 2, 4)\n",
        "fig = df.boxplot(column='IP Skewness')\n",
        "fig.set_title('')\n",
        "fig.set_ylabel('IP Skewness')\n",
        "\n",
        "\n",
        "plt.subplot(4, 2, 5)\n",
        "fig = df.boxplot(column='DM-SNR Mean')\n",
        "fig.set_title('')\n",
        "fig.set_ylabel('DM-SNR Mean')\n",
        "\n",
        "\n",
        "plt.subplot(4, 2, 6)\n",
        "fig = df.boxplot(column='DM-SNR Sd')\n",
        "fig.set_title('')\n",
        "fig.set_ylabel('DM-SNR Sd')\n",
        "\n",
        "\n",
        "plt.subplot(4, 2, 7)\n",
        "fig = df.boxplot(column='DM-SNR Kurtosis')\n",
        "fig.set_title('')\n",
        "fig.set_ylabel('DM-SNR Kurtosis')\n",
        "\n",
        "\n",
        "plt.subplot(4, 2, 8)\n",
        "fig = df.boxplot(column='DM-SNR Skewness')\n",
        "fig.set_title('')\n",
        "fig.set_ylabel('DM-SNR Skewness')"
      ],
      "execution_count": 0,
      "outputs": [
        {
          "output_type": "execute_result",
          "data": {
            "text/plain": [
              "Text(0, 0.5, 'DM-SNR Skewness')"
            ]
          },
          "metadata": {
            "tags": []
          },
          "execution_count": 11
        },
        {
          "output_type": "display_data",
          "data": {
            "image/png": "[encoded data removed]",
            "text/plain": [
              "<Figure size 1728x1440 with 8 Axes>"
            ]
          },
          "metadata": {
            "tags": [],
            "needs_background": "light"
          }
        }
      ]
    },
    {
      "cell_type": "markdown",
      "metadata": {
        "id": "fBg9YWVau6FT",
        "colab_type": "text"
      },
      "source": [
        "The above boxplots confirm that there are lot of outliers in these variables."
      ]
    },
    {
      "cell_type": "markdown",
      "metadata": {
        "id": "ygUfqvbQu6FT",
        "colab_type": "text"
      },
      "source": [
        "We will handle outliers with SVM\n",
        "\n"
      ]
    },
    {
      "cell_type": "code",
      "metadata": {
        "id": "SYPbjl8ru6FU",
        "colab_type": "code",
        "colab": {}
      },
      "source": [
        "X = df.drop(['target_class'], axis=1)\n",
        "\n",
        "y = df['target_class']"
      ],
      "execution_count": 0,
      "outputs": []
    },
    {
      "cell_type": "markdown",
      "metadata": {
        "id": "MNcEYT0nu6FW",
        "colab_type": "text"
      },
      "source": [
        "# 4. Splitting data into separate training and test set "
      ]
    },
    {
      "cell_type": "code",
      "metadata": {
        "id": "KJmH6CfMu6FX",
        "colab_type": "code",
        "colab": {}
      },
      "source": [
        "from sklearn.model_selection import train_test_split\n",
        "\n",
        "X_train, X_test, y_train, y_test = train_test_split(X, y, test_size = 0.2, random_state = 0)"
      ],
      "execution_count": 0,
      "outputs": []
    },
    {
      "cell_type": "code",
      "metadata": {
        "id": "qg2IFPmSu6FZ",
        "colab_type": "code",
        "colab": {},
        "outputId": "9521910a-cd33-4bed-f64d-15d548182930"
      },
      "source": [
        "X_train.shape, X_test.shape"
      ],
      "execution_count": 0,
      "outputs": [
        {
          "output_type": "execute_result",
          "data": {
            "text/plain": [
              "((14318, 8), (3580, 8))"
            ]
          },
          "metadata": {
            "tags": []
          },
          "execution_count": 14
        }
      ]
    },
    {
      "cell_type": "markdown",
      "metadata": {
        "id": "Uk2Alguru6Fb",
        "colab_type": "text"
      },
      "source": [
        "# 5. Feature Scaling"
      ]
    },
    {
      "cell_type": "code",
      "metadata": {
        "id": "BL9OD4eDu6Fc",
        "colab_type": "code",
        "colab": {}
      },
      "source": [
        "cols = X_train.columns"
      ],
      "execution_count": 0,
      "outputs": []
    },
    {
      "cell_type": "code",
      "metadata": {
        "id": "1M218l8Vu6Ff",
        "colab_type": "code",
        "colab": {}
      },
      "source": [
        "from sklearn.preprocessing import StandardScaler\n",
        "\n",
        "scaler = StandardScaler()\n",
        "\n",
        "X_train = scaler.fit_transform(X_train)\n",
        "\n",
        "X_test = scaler.transform(X_test)"
      ],
      "execution_count": 0,
      "outputs": []
    },
    {
      "cell_type": "code",
      "metadata": {
        "id": "coaWwU4au6Fg",
        "colab_type": "code",
        "colab": {}
      },
      "source": [
        "X_train = pd.DataFrame(X_train, columns=[cols])"
      ],
      "execution_count": 0,
      "outputs": []
    },
    {
      "cell_type": "code",
      "metadata": {
        "id": "3VLtzUM4u6Fi",
        "colab_type": "code",
        "colab": {},
        "outputId": "4b0b3d90-e1ea-4d0b-f737-ba4d62e318d6"
      },
      "source": [
        "X_train.describe()"
      ],
      "execution_count": 0,
      "outputs": [
        {
          "output_type": "execute_result",
          "data": {
            "text/html": [
              "<div>\n",
              "<style scoped>\n",
              "    .dataframe tbody tr th:only-of-type {\n",
              "        vertical-align: middle;\n",
              "    }\n",
              "\n",
              "    .dataframe tbody tr th {\n",
              "        vertical-align: top;\n",
              "    }\n",
              "\n",
              "    .dataframe thead tr th {\n",
              "        text-align: left;\n",
              "    }\n",
              "</style>\n",
              "<table border=\"1\" class=\"dataframe\">\n",
              "  <thead>\n",
              "    <tr>\n",
              "      <th></th>\n",
              "      <th>IP Mean</th>\n",
              "      <th>IP Sd</th>\n",
              "      <th>IP Kurtosis</th>\n",
              "      <th>IP Skewness</th>\n",
              "      <th>DM-SNR Mean</th>\n",
              "      <th>DM-SNR Sd</th>\n",
              "      <th>DM-SNR Kurtosis</th>\n",
              "      <th>DM-SNR Skewness</th>\n",
              "    </tr>\n",
              "  </thead>\n",
              "  <tbody>\n",
              "    <tr>\n",
              "      <td>count</td>\n",
              "      <td>1.431800e+04</td>\n",
              "      <td>1.431800e+04</td>\n",
              "      <td>1.431800e+04</td>\n",
              "      <td>1.431800e+04</td>\n",
              "      <td>1.431800e+04</td>\n",
              "      <td>1.431800e+04</td>\n",
              "      <td>1.431800e+04</td>\n",
              "      <td>1.431800e+04</td>\n",
              "    </tr>\n",
              "    <tr>\n",
              "      <td>mean</td>\n",
              "      <td>1.986604e-16</td>\n",
              "      <td>-6.757488e-16</td>\n",
              "      <td>2.125527e-17</td>\n",
              "      <td>3.581784e-17</td>\n",
              "      <td>-2.205248e-17</td>\n",
              "      <td>-1.583840e-16</td>\n",
              "      <td>-9.700300e-18</td>\n",
              "      <td>1.214786e-16</td>\n",
              "    </tr>\n",
              "    <tr>\n",
              "      <td>std</td>\n",
              "      <td>1.000035e+00</td>\n",
              "      <td>1.000035e+00</td>\n",
              "      <td>1.000035e+00</td>\n",
              "      <td>1.000035e+00</td>\n",
              "      <td>1.000035e+00</td>\n",
              "      <td>1.000035e+00</td>\n",
              "      <td>1.000035e+00</td>\n",
              "      <td>1.000035e+00</td>\n",
              "    </tr>\n",
              "    <tr>\n",
              "      <td>min</td>\n",
              "      <td>-4.035499e+00</td>\n",
              "      <td>-3.181033e+00</td>\n",
              "      <td>-2.185946e+00</td>\n",
              "      <td>-5.744051e-01</td>\n",
              "      <td>-4.239001e-01</td>\n",
              "      <td>-9.733707e-01</td>\n",
              "      <td>-2.455649e+00</td>\n",
              "      <td>-1.003411e+00</td>\n",
              "    </tr>\n",
              "    <tr>\n",
              "      <td>25%</td>\n",
              "      <td>-3.896291e-01</td>\n",
              "      <td>-6.069473e-01</td>\n",
              "      <td>-4.256221e-01</td>\n",
              "      <td>-3.188054e-01</td>\n",
              "      <td>-3.664918e-01</td>\n",
              "      <td>-6.125457e-01</td>\n",
              "      <td>-5.641035e-01</td>\n",
              "      <td>-6.627590e-01</td>\n",
              "    </tr>\n",
              "    <tr>\n",
              "      <td>50%</td>\n",
              "      <td>1.587461e-01</td>\n",
              "      <td>5.846646e-02</td>\n",
              "      <td>-2.453172e-01</td>\n",
              "      <td>-2.578142e-01</td>\n",
              "      <td>-3.372294e-01</td>\n",
              "      <td>-4.067482e-01</td>\n",
              "      <td>3.170446e-02</td>\n",
              "      <td>-2.059136e-01</td>\n",
              "    </tr>\n",
              "    <tr>\n",
              "      <td>75%</td>\n",
              "      <td>6.267059e-01</td>\n",
              "      <td>6.501017e-01</td>\n",
              "      <td>-1.001238e-02</td>\n",
              "      <td>-1.419621e-01</td>\n",
              "      <td>-2.463724e-01</td>\n",
              "      <td>1.078934e-01</td>\n",
              "      <td>5.362759e-01</td>\n",
              "      <td>3.256217e-01</td>\n",
              "    </tr>\n",
              "    <tr>\n",
              "      <td>max</td>\n",
              "      <td>3.151882e+00</td>\n",
              "      <td>7.621116e+00</td>\n",
              "      <td>7.008906e+00</td>\n",
              "      <td>1.054430e+01</td>\n",
              "      <td>7.025568e+00</td>\n",
              "      <td>4.292181e+00</td>\n",
              "      <td>5.818557e+00</td>\n",
              "      <td>1.024613e+01</td>\n",
              "    </tr>\n",
              "  </tbody>\n",
              "</table>\n",
              "</div>"
            ],
            "text/plain": [
              "            IP Mean         IP Sd   IP Kurtosis   IP Skewness   DM-SNR Mean  \\\n",
              "count  1.431800e+04  1.431800e+04  1.431800e+04  1.431800e+04  1.431800e+04   \n",
              "mean   1.986604e-16 -6.757488e-16  2.125527e-17  3.581784e-17 -2.205248e-17   \n",
              "std    1.000035e+00  1.000035e+00  1.000035e+00  1.000035e+00  1.000035e+00   \n",
              "min   -4.035499e+00 -3.181033e+00 -2.185946e+00 -5.744051e-01 -4.239001e-01   \n",
              "25%   -3.896291e-01 -6.069473e-01 -4.256221e-01 -3.188054e-01 -3.664918e-01   \n",
              "50%    1.587461e-01  5.846646e-02 -2.453172e-01 -2.578142e-01 -3.372294e-01   \n",
              "75%    6.267059e-01  6.501017e-01 -1.001238e-02 -1.419621e-01 -2.463724e-01   \n",
              "max    3.151882e+00  7.621116e+00  7.008906e+00  1.054430e+01  7.025568e+00   \n",
              "\n",
              "          DM-SNR Sd DM-SNR Kurtosis DM-SNR Skewness  \n",
              "count  1.431800e+04    1.431800e+04    1.431800e+04  \n",
              "mean  -1.583840e-16   -9.700300e-18    1.214786e-16  \n",
              "std    1.000035e+00    1.000035e+00    1.000035e+00  \n",
              "min   -9.733707e-01   -2.455649e+00   -1.003411e+00  \n",
              "25%   -6.125457e-01   -5.641035e-01   -6.627590e-01  \n",
              "50%   -4.067482e-01    3.170446e-02   -2.059136e-01  \n",
              "75%    1.078934e-01    5.362759e-01    3.256217e-01  \n",
              "max    4.292181e+00    5.818557e+00    1.024613e+01  "
            ]
          },
          "metadata": {
            "tags": []
          },
          "execution_count": 18
        }
      ]
    },
    {
      "cell_type": "markdown",
      "metadata": {
        "id": "LtZr7E9Tu6Fm",
        "colab_type": "text"
      },
      "source": [
        "# 6. SVM"
      ]
    },
    {
      "cell_type": "markdown",
      "metadata": {
        "id": "21htlCL4u6Fm",
        "colab_type": "text"
      },
      "source": [
        "Default hyperparameter means C=1.0, kernel=rbf and gamma=auto among other parameters."
      ]
    },
    {
      "cell_type": "code",
      "metadata": {
        "id": "JXozSGweu6Fm",
        "colab_type": "code",
        "colab": {},
        "outputId": "df23270a-1375-458a-a81c-a9bf6f395308"
      },
      "source": [
        "from sklearn.svm import SVC\n",
        "\n",
        "\n",
        "# import metrics to compute accuracy\n",
        "from sklearn.metrics import accuracy_score\n",
        "\n",
        "\n",
        "# instantiate classifier with default hyperparameters\n",
        "svc=SVC() \n",
        "\n",
        "\n",
        "# fit classifier to training set\n",
        "svc.fit(X_train,y_train)\n",
        "\n",
        "\n",
        "# make predictions on test set\n",
        "y_pred=svc.predict(X_test)\n",
        "\n",
        "\n",
        "# compute and print accuracy score\n",
        "print('Model accuracy score with default hyperparameters: {0:0.4f}'. format(accuracy_score(y_test, y_pred)))"
      ],
      "execution_count": 0,
      "outputs": [
        {
          "output_type": "stream",
          "text": [
            "Model accuracy score with default hyperparameters: 0.9827\n"
          ],
          "name": "stdout"
        }
      ]
    },
    {
      "cell_type": "markdown",
      "metadata": {
        "id": "4UWmGRVlu6Fp",
        "colab_type": "text"
      },
      "source": [
        "# We have seen that there are outliers in our dataset. So, we should increase the value of C as higher C means fewer outliers. So, I will run SVM with kernel=rbf and C=100.0."
      ]
    },
    {
      "cell_type": "markdown",
      "metadata": {
        "id": "I9pVPsd1u6Fp",
        "colab_type": "text"
      },
      "source": [
        "Run SVM with rbf kernel and C=100.0"
      ]
    },
    {
      "cell_type": "code",
      "metadata": {
        "id": "YKiKz10iu6Fp",
        "colab_type": "code",
        "colab": {},
        "outputId": "194c1764-1bb6-424c-beaf-a12a9e2220ca"
      },
      "source": [
        "# instantiate classifier with rbf kernel and C=100\n",
        "svc=SVC(C=100.0) \n",
        "\n",
        "\n",
        "# fit classifier to training set\n",
        "svc.fit(X_train,y_train)\n",
        "\n",
        "\n",
        "# make predictions on test set\n",
        "y_pred=svc.predict(X_test)\n",
        "\n",
        "\n",
        "# compute and print accuracy score\n",
        "print('Model accuracy score with rbf kernel and C=100.0 : {0:0.4f}'. format(accuracy_score(y_test, y_pred)))"
      ],
      "execution_count": 0,
      "outputs": [
        {
          "output_type": "stream",
          "text": [
            "Model accuracy score with rbf kernel and C=100.0 : 0.9832\n"
          ],
          "name": "stdout"
        }
      ]
    },
    {
      "cell_type": "markdown",
      "metadata": {
        "id": "z4dJpfuFu6Fs",
        "colab_type": "text"
      },
      "source": [
        "Run SVM with linear kernel and C=100.0"
      ]
    },
    {
      "cell_type": "code",
      "metadata": {
        "id": "nYbjdvfCu6Fs",
        "colab_type": "code",
        "colab": {},
        "outputId": "132c14a0-ad69-4916-cd27-619b3b537d53"
      },
      "source": [
        "# instantiate classifier with linear kernel and C=100.0\n",
        "linear_svc100=SVC(kernel='linear', C=100.0) \n",
        "\n",
        "\n",
        "# fit classifier to training set\n",
        "linear_svc100.fit(X_train, y_train)\n",
        "\n",
        "\n",
        "# make predictions on test set\n",
        "y_pred=linear_svc100.predict(X_test)\n",
        "\n",
        "\n",
        "# compute and print accuracy score\n",
        "print('Model accuracy score with linear kernel and C=100.0 : {0:0.4f}'. format(accuracy_score(y_test, y_pred)))\n"
      ],
      "execution_count": 0,
      "outputs": [
        {
          "output_type": "stream",
          "text": [
            "Model accuracy score with linear kernel and C=100.0 : 0.9832\n"
          ],
          "name": "stdout"
        }
      ]
    },
    {
      "cell_type": "code",
      "metadata": {
        "id": "qf36FnpQu6Fv",
        "colab_type": "code",
        "colab": {},
        "outputId": "112ee229-3526-4e9d-ef35-d3bacb2f2000"
      },
      "source": [
        "# instantiate classifier with linear kernel and C=1.0\n",
        "linear_svc=SVC(kernel='linear', C=1.0) \n",
        "\n",
        "\n",
        "# fit classifier to training set\n",
        "linear_svc.fit(X_train,y_train)\n",
        "\n",
        "\n",
        "# make predictions on test set\n",
        "y_pred_test=linear_svc.predict(X_test)\n",
        "\n",
        "\n",
        "# compute and print accuracy score\n",
        "print('Model accuracy score with linear kernel and C=1.0 : {0:0.4f}'. format(accuracy_score(y_test, y_pred_test)))"
      ],
      "execution_count": 0,
      "outputs": [
        {
          "output_type": "stream",
          "text": [
            "Model accuracy score with linear kernel and C=1.0 : 0.9830\n"
          ],
          "name": "stdout"
        }
      ]
    },
    {
      "cell_type": "code",
      "metadata": {
        "id": "IVssvdVZu6Fx",
        "colab_type": "code",
        "colab": {}
      },
      "source": [
        "compareScore=[]\n",
        "compareScore.append(0.9832*100)"
      ],
      "execution_count": 0,
      "outputs": []
    },
    {
      "cell_type": "markdown",
      "metadata": {
        "id": "AD-k0nCHu6Fz",
        "colab_type": "text"
      },
      "source": [
        "Compare the train-set and test-set accuracy"
      ]
    },
    {
      "cell_type": "code",
      "metadata": {
        "id": "DER-1pISu6Fz",
        "colab_type": "code",
        "colab": {},
        "outputId": "8ce31a19-9f38-4975-ce29-048ef6ad9397"
      },
      "source": [
        "y_pred_train = linear_svc.predict(X_train)\n",
        "\n",
        "y_pred_train"
      ],
      "execution_count": 0,
      "outputs": [
        {
          "output_type": "execute_result",
          "data": {
            "text/plain": [
              "array([0, 0, 1, ..., 0, 0, 0], dtype=int64)"
            ]
          },
          "metadata": {
            "tags": []
          },
          "execution_count": 24
        }
      ]
    },
    {
      "cell_type": "code",
      "metadata": {
        "id": "3FrgtjYNu6F1",
        "colab_type": "code",
        "colab": {},
        "outputId": "497e3c90-280d-4728-d69f-061477d0606b"
      },
      "source": [
        "print('Training-set accuracy score: {0:0.4f}'. format(accuracy_score(y_train, y_pred_train)))"
      ],
      "execution_count": 0,
      "outputs": [
        {
          "output_type": "stream",
          "text": [
            "Training-set accuracy score: 0.9783\n"
          ],
          "name": "stdout"
        }
      ]
    },
    {
      "cell_type": "code",
      "metadata": {
        "id": "yOQMHvTRu6F3",
        "colab_type": "code",
        "colab": {},
        "outputId": "826efc95-9c4c-4e53-c83c-cee2fe50177f"
      },
      "source": [
        "# print the scores on training and test set\n",
        "\n",
        "print('Training set score: {:.4f}'.format(linear_svc.score(X_train, y_train)))\n",
        "\n",
        "print('Test set score: {:.4f}'.format(linear_svc.score(X_test, y_test)))"
      ],
      "execution_count": 0,
      "outputs": [
        {
          "output_type": "stream",
          "text": [
            "Training set score: 0.9783\n",
            "Test set score: 0.9830\n"
          ],
          "name": "stdout"
        }
      ]
    },
    {
      "cell_type": "markdown",
      "metadata": {
        "id": "tONRk5qBu6F5",
        "colab_type": "text"
      },
      "source": [
        "# 7. Confusion Matrix "
      ]
    },
    {
      "cell_type": "code",
      "metadata": {
        "id": "QohD_pdku6F5",
        "colab_type": "code",
        "colab": {},
        "outputId": "1892372a-3d13-4d4c-8ce6-0fe92569dd65"
      },
      "source": [
        "from sklearn.metrics import confusion_matrix\n",
        "\n",
        "cm = confusion_matrix(y_test, y_pred_test)\n",
        "\n",
        "print('Confusion matrix\\n\\n', cm)\n",
        "\n",
        "print('\\nTrue Positives(TP) = ', cm[0,0])\n",
        "\n",
        "print('\\nTrue Negatives(TN) = ', cm[1,1])\n",
        "\n",
        "print('\\nFalse Positives(FP) = ', cm[0,1])\n"
      ],
      "execution_count": 0,
      "outputs": [
        {
          "output_type": "stream",
          "text": [
            "Confusion matrix\n",
            "\n",
            " [[3289   17]\n",
            " [  44  230]]\n",
            "\n",
            "True Positives(TP) =  3289\n",
            "\n",
            "True Negatives(TN) =  230\n",
            "\n",
            "False Positives(FP) =  17\n"
          ],
          "name": "stdout"
        }
      ]
    },
    {
      "cell_type": "code",
      "metadata": {
        "id": "1Yv4soaUu6F7",
        "colab_type": "code",
        "colab": {},
        "outputId": "1d56b63b-b419-4dbb-f93f-9bad7a4bd968"
      },
      "source": [
        "# visualize confusion matrix with seaborn heatmap\n",
        "\n",
        "cm_matrix = pd.DataFrame(data=cm, columns=['Actual Positive:1', 'Actual Negative:0'], \n",
        "                                 index=['Predict Positive:1', 'Predict Negative:0'])\n",
        "\n",
        "sns.heatmap(cm_matrix, annot=True, fmt='d', cmap='YlGnBu')"
      ],
      "execution_count": 0,
      "outputs": [
        {
          "output_type": "execute_result",
          "data": {
            "text/plain": [
              "<matplotlib.axes._subplots.AxesSubplot at 0x263487a60c8>"
            ]
          },
          "metadata": {
            "tags": []
          },
          "execution_count": 28
        },
        {
          "output_type": "display_data",
          "data": {
            "image/png": "[encoded data removed]",
            "text/plain": [
              "<Figure size 432x288 with 2 Axes>"
            ]
          },
          "metadata": {
            "tags": [],
            "needs_background": "light"
          }
        }
      ]
    },
    {
      "cell_type": "code",
      "metadata": {
        "id": "dms0Cv66u6F-",
        "colab_type": "code",
        "colab": {},
        "outputId": "a47d534b-e4b5-481c-e322-46c4493520a4"
      },
      "source": [
        "\n",
        "from sklearn.metrics import roc_curve\n",
        "\n",
        "fpr, tpr, thresholds = roc_curve(y_test, y_pred_test)\n",
        "\n",
        "plt.figure(figsize=(6,4))\n",
        "\n",
        "plt.plot(fpr, tpr, linewidth=2)\n",
        "\n",
        "plt.plot([0,1], [0,1], 'k--' )\n",
        "\n",
        "plt.rcParams['font.size'] = 12\n",
        "\n",
        "plt.title('ROC curve for Predicting a Pulsar Star classifier')\n",
        "\n",
        "plt.xlabel('False Positive Rate (1 - Specificity)')\n",
        "\n",
        "plt.ylabel('True Positive Rate (Sensitivity)')\n",
        "\n",
        "plt.show()"
      ],
      "execution_count": 0,
      "outputs": [
        {
          "output_type": "display_data",
          "data": {
            "image/png": "[encoded data removed]",
            "text/plain": [
              "<Figure size 432x288 with 1 Axes>"
            ]
          },
          "metadata": {
            "tags": [],
            "needs_background": "light"
          }
        }
      ]
    },
    {
      "cell_type": "markdown",
      "metadata": {
        "id": "dREXYn0Ju6F_",
        "colab_type": "text"
      },
      "source": [
        "# 8. KNN"
      ]
    },
    {
      "cell_type": "code",
      "metadata": {
        "id": "MhfXRfmdu6GA",
        "colab_type": "code",
        "colab": {},
        "outputId": "01c75678-2871-469c-b556-4eed68582f4f"
      },
      "source": [
        "from sklearn.neighbors import KNeighborsClassifier\n",
        "knn = KNeighborsClassifier(n_neighbors=4)\n",
        "\n",
        "knn.fit(X_train, y_train)\n",
        "print(\"Test accuracy: {}%\".format(knn.score(X_test,y_test)*100))"
      ],
      "execution_count": 0,
      "outputs": [
        {
          "output_type": "stream",
          "text": [
            "Test accuracy: 98.43575418994413%\n"
          ],
          "name": "stdout"
        }
      ]
    },
    {
      "cell_type": "code",
      "metadata": {
        "id": "X-WTa6E7u6GB",
        "colab_type": "code",
        "colab": {},
        "outputId": "731dbe41-7e4f-4ec8-8585-47a6e373c22b"
      },
      "source": [
        "scoreList = []\n",
        "n = 15\n",
        "for i in range(1,n):\n",
        "    knn2 = KNeighborsClassifier(n_neighbors=i)\n",
        "    knn2.fit(X_train, y_train)\n",
        "    scoreList.append(knn2.score(X_test,y_test))\n",
        "    \n",
        "plt.plot(range(1,n), scoreList)\n",
        "plt.ylabel(\"Accuracy rate\")\n",
        "plt.show()"
      ],
      "execution_count": 0,
      "outputs": [
        {
          "output_type": "display_data",
          "data": {
            "image/png": "[encoded data removed]",
            "text/plain": [
              "<Figure size 432x288 with 1 Axes>"
            ]
          },
          "metadata": {
            "tags": [],
            "needs_background": "light"
          }
        }
      ]
    },
    {
      "cell_type": "code",
      "metadata": {
        "id": "Hf7JmUdbu6GD",
        "colab_type": "code",
        "colab": {},
        "outputId": "52379bbd-5837-4408-910b-cd1fbd031ac7"
      },
      "source": [
        "knn = KNeighborsClassifier(n_neighbors=6)\n",
        "\n",
        "knn.fit(X_train, y_train)\n",
        "print(\"Test accuracy: {}%\".format(knn.score(X_test,y_test)*100))"
      ],
      "execution_count": 0,
      "outputs": [
        {
          "output_type": "stream",
          "text": [
            "Test accuracy: 98.5195530726257%\n"
          ],
          "name": "stdout"
        }
      ]
    },
    {
      "cell_type": "code",
      "metadata": {
        "id": "tKlb9Za7u6GF",
        "colab_type": "code",
        "colab": {}
      },
      "source": [
        "compareScore.append( 98.51)\n"
      ],
      "execution_count": 0,
      "outputs": []
    },
    {
      "cell_type": "markdown",
      "metadata": {
        "id": "1qAgFD_Hu6GH",
        "colab_type": "text"
      },
      "source": [
        "# 9. Random Forest Classification"
      ]
    },
    {
      "cell_type": "code",
      "metadata": {
        "id": "uQcSlFpiu6GI",
        "colab_type": "code",
        "colab": {},
        "outputId": "d4ba621b-117d-4274-bb72-8e64f028c871"
      },
      "source": [
        "from sklearn.ensemble import RandomForestClassifier\n",
        "rf = RandomForestClassifier(random_state=42, n_estimators=10)\n",
        "\n",
        "rf.fit(X_train, y_train)\n",
        "\n",
        "rfScore = rf.score(X_test, y_test)*100\n",
        "\n",
        "print(\"Test accuracy: {}%\".format(rfScore))"
      ],
      "execution_count": 0,
      "outputs": [
        {
          "output_type": "stream",
          "text": [
            "Test accuracy: 98.32402234636871%\n"
          ],
          "name": "stdout"
        }
      ]
    },
    {
      "cell_type": "code",
      "metadata": {
        "id": "Qdo2tjeAu6GJ",
        "colab_type": "code",
        "colab": {},
        "outputId": "80757559-9c7b-4295-880f-ae58ead5f30c"
      },
      "source": [
        "from sklearn.ensemble import RandomForestClassifier\n",
        "rf = RandomForestClassifier(random_state=42, n_estimators=5)\n",
        "\n",
        "rf.fit(X_train, y_train)\n",
        "\n",
        "rfScore = rf.score(X_test, y_test)*100\n",
        "\n",
        "\n",
        "print(\"Test accuracy: {}%\".format(rfScore))\n"
      ],
      "execution_count": 0,
      "outputs": [
        {
          "output_type": "stream",
          "text": [
            "Test accuracy: 98.04469273743017%\n"
          ],
          "name": "stdout"
        }
      ]
    },
    {
      "cell_type": "code",
      "metadata": {
        "id": "4lWT3OO1u6GL",
        "colab_type": "code",
        "colab": {}
      },
      "source": [
        "compareScore.append(rfScore)"
      ],
      "execution_count": 0,
      "outputs": []
    },
    {
      "cell_type": "markdown",
      "metadata": {
        "id": "mOhaDlpZu6GO",
        "colab_type": "text"
      },
      "source": [
        "# 10. Model Comparision"
      ]
    },
    {
      "cell_type": "code",
      "metadata": {
        "id": "arQC_Xosu6GP",
        "colab_type": "code",
        "colab": {},
        "outputId": "27356b61-8ff4-4e1e-c2ff-d063f282a309"
      },
      "source": [
        "compareScore"
      ],
      "execution_count": 0,
      "outputs": [
        {
          "output_type": "execute_result",
          "data": {
            "text/plain": [
              "[98.32, 98.51, 98.04469273743017]"
            ]
          },
          "metadata": {
            "tags": []
          },
          "execution_count": 37
        }
      ]
    },
    {
      "cell_type": "code",
      "metadata": {
        "id": "LBmifjW0u6GQ",
        "colab_type": "code",
        "colab": {}
      },
      "source": [
        "label = ['SVM', 'KNN', 'Random Forest']"
      ],
      "execution_count": 0,
      "outputs": []
    },
    {
      "cell_type": "code",
      "metadata": {
        "id": "u_qs6uUzu6GV",
        "colab_type": "code",
        "colab": {},
        "outputId": "576ece48-b42e-460a-85d9-77eb09ed2dea"
      },
      "source": [
        "import math\n",
        "x = label\n",
        "y = compareScore\n",
        "low = 98\n",
        "high = 99\n",
        "plt.ylim([math.ceil(low-0.5*(high-low)), math.ceil(high+0.5*(high-low))])\n",
        "plt.bar(x,y) \n",
        "plt.show()"
      ],
      "execution_count": 0,
      "outputs": [
        {
          "output_type": "display_data",
          "data": {
            "image/png": "[encoded data removed]",
            "text/plain": [
              "<Figure size 432x288 with 1 Axes>"
            ]
          },
          "metadata": {
            "tags": [],
            "needs_background": "light"
          }
        }
      ]
    },
    {
      "cell_type": "markdown",
      "metadata": {
        "id": "hzu9eb84u6GY",
        "colab_type": "text"
      },
      "source": [
        "# 11.  Answers of the questions"
      ]
    },
    {
      "cell_type": "markdown",
      "metadata": {
        "id": "bfvDdNbgu6GZ",
        "colab_type": "text"
      },
      "source": [
        "# Is the relationship significant?"
      ]
    },
    {
      "cell_type": "markdown",
      "metadata": {
        "id": "YTl0cxkCu6Ga",
        "colab_type": "text"
      },
      "source": [
        "# Are any model assumptions violated?"
      ]
    },
    {
      "cell_type": "markdown",
      "metadata": {
        "id": "V44BAzZ7u6Ga",
        "colab_type": "text"
      },
      "source": [
        "Before starting to build on a predictive model, the following assumptions should be taken care off\n",
        "Assumption 1: The parameters of the linear regression model must be numeric and linear in nature. \n",
        "If the parameters are non-numeric like categorical then use one-hot encoding (python) or dummy encoding (R) to convert them to numeric."
      ]
    },
    {
      "cell_type": "markdown",
      "metadata": {
        "id": "B9eIbWvdu6Gb",
        "colab_type": "text"
      },
      "source": [
        "Assumption 2:The mean of residuals is zero"
      ]
    },
    {
      "cell_type": "markdown",
      "metadata": {
        "id": "sJ1E9Rk1u6Gb",
        "colab_type": "text"
      },
      "source": [
        "Assumption 3:Homoscedasticity of residuals or equal variance"
      ]
    },
    {
      "cell_type": "markdown",
      "metadata": {
        "id": "NiiB6Zn4u6Gc",
        "colab_type": "text"
      },
      "source": [
        "Assumption 4\n",
        "No perfect multicollinearity\n",
        "There is no perfect linear relationship between explanatory variables."
      ]
    },
    {
      "cell_type": "markdown",
      "metadata": {
        "id": "eY3IKfvQu6Gd",
        "colab_type": "text"
      },
      "source": [
        "#  Is there any multi-collinearity in the model?"
      ]
    },
    {
      "cell_type": "markdown",
      "metadata": {
        "id": "wr6ihMVlu6Gd",
        "colab_type": "text"
      },
      "source": [
        "Multicollinearity generally occurs when there are high correlations between two or more predictor variables. In other words, one predictor variable can be used to predict the other. This creates redundant information, skewing the results in a regression model. Examples of correlated predictor variables (also called multicollinear predictors) are: a person’s height and weight, age and sales price of a car, or years of education and annual income."
      ]
    },
    {
      "cell_type": "code",
      "metadata": {
        "id": "1OD8tVX4u6Ge",
        "colab_type": "code",
        "colab": {}
      },
      "source": [
        "from statsmodels.stats.outliers_influence import variance_inflation_factor"
      ],
      "execution_count": 0,
      "outputs": []
    },
    {
      "cell_type": "code",
      "metadata": {
        "id": "Oqd53u2-u6Gf",
        "colab_type": "code",
        "colab": {}
      },
      "source": [
        "# For each X, calculate VIF and save in dataframe\n",
        "vif = pd.DataFrame()\n",
        "vif[\"VIF Factor\"] = [variance_inflation_factor(X.values, i) for i in range(X.shape[1])]\n",
        "vif[\"features\"] = X.columns"
      ],
      "execution_count": 0,
      "outputs": []
    },
    {
      "cell_type": "code",
      "metadata": {
        "id": "NT5Lga0tu6Gj",
        "colab_type": "code",
        "colab": {},
        "outputId": "d115ab04-6bdd-4fab-e747-bc63b43ac4fb"
      },
      "source": [
        "vif.round()"
      ],
      "execution_count": 0,
      "outputs": [
        {
          "output_type": "execute_result",
          "data": {
            "text/html": [
              "<div>\n",
              "<style scoped>\n",
              "    .dataframe tbody tr th:only-of-type {\n",
              "        vertical-align: middle;\n",
              "    }\n",
              "\n",
              "    .dataframe tbody tr th {\n",
              "        vertical-align: top;\n",
              "    }\n",
              "\n",
              "    .dataframe thead th {\n",
              "        text-align: right;\n",
              "    }\n",
              "</style>\n",
              "<table border=\"1\" class=\"dataframe\">\n",
              "  <thead>\n",
              "    <tr style=\"text-align: right;\">\n",
              "      <th></th>\n",
              "      <th>VIF Factor</th>\n",
              "      <th>features</th>\n",
              "    </tr>\n",
              "  </thead>\n",
              "  <tbody>\n",
              "    <tr>\n",
              "      <td>0</td>\n",
              "      <td>97.0</td>\n",
              "      <td>IP Mean</td>\n",
              "    </tr>\n",
              "    <tr>\n",
              "      <td>1</td>\n",
              "      <td>78.0</td>\n",
              "      <td>IP Sd</td>\n",
              "    </tr>\n",
              "    <tr>\n",
              "      <td>2</td>\n",
              "      <td>27.0</td>\n",
              "      <td>IP Kurtosis</td>\n",
              "    </tr>\n",
              "    <tr>\n",
              "      <td>3</td>\n",
              "      <td>16.0</td>\n",
              "      <td>IP Skewness</td>\n",
              "    </tr>\n",
              "    <tr>\n",
              "      <td>4</td>\n",
              "      <td>4.0</td>\n",
              "      <td>DM-SNR Mean</td>\n",
              "    </tr>\n",
              "    <tr>\n",
              "      <td>5</td>\n",
              "      <td>16.0</td>\n",
              "      <td>DM-SNR Sd</td>\n",
              "    </tr>\n",
              "    <tr>\n",
              "      <td>6</td>\n",
              "      <td>101.0</td>\n",
              "      <td>DM-SNR Kurtosis</td>\n",
              "    </tr>\n",
              "    <tr>\n",
              "      <td>7</td>\n",
              "      <td>27.0</td>\n",
              "      <td>DM-SNR Skewness</td>\n",
              "    </tr>\n",
              "  </tbody>\n",
              "</table>\n",
              "</div>"
            ],
            "text/plain": [
              "   VIF Factor         features\n",
              "0        97.0          IP Mean\n",
              "1        78.0            IP Sd\n",
              "2        27.0      IP Kurtosis\n",
              "3        16.0      IP Skewness\n",
              "4         4.0      DM-SNR Mean\n",
              "5        16.0        DM-SNR Sd\n",
              "6       101.0  DM-SNR Kurtosis\n",
              "7        27.0  DM-SNR Skewness"
            ]
          },
          "metadata": {
            "tags": []
          },
          "execution_count": 42
        }
      ]
    },
    {
      "cell_type": "markdown",
      "metadata": {
        "id": "0GK4FIeSu6Gk",
        "colab_type": "text"
      },
      "source": [
        "As expected, Excess kurtosis of the DM-SNR curve have a high variance inflation factor because they explain the same variance within this dataset. We would need to discard this variable before moving on to model building or risk building a model with high multicolinearity."
      ]
    },
    {
      "cell_type": "code",
      "metadata": {
        "id": "QnR5MfQ-u6Gl",
        "colab_type": "code",
        "colab": {}
      },
      "source": [
        "X = df.drop(['target_class'], axis=1)\n",
        "\n",
        "y = df['target_class']"
      ],
      "execution_count": 0,
      "outputs": []
    },
    {
      "cell_type": "code",
      "metadata": {
        "id": "o7J8DLyru6Gn",
        "colab_type": "code",
        "colab": {}
      },
      "source": [
        "X = df.drop(['DM-SNR Kurtosis'], axis=1)"
      ],
      "execution_count": 0,
      "outputs": []
    },
    {
      "cell_type": "code",
      "metadata": {
        "id": "w0Ep6bbYu6Gp",
        "colab_type": "code",
        "colab": {}
      },
      "source": [
        "X_train, X_test, y_train, y_test = train_test_split(X, y, test_size = 0.2, random_state = 0)"
      ],
      "execution_count": 0,
      "outputs": []
    },
    {
      "cell_type": "code",
      "metadata": {
        "id": "rR4vnocCu6Gs",
        "colab_type": "code",
        "colab": {},
        "outputId": "aaf549b5-da95-4a64-8c76-1b8e1826523c"
      },
      "source": [
        "from sklearn.ensemble import RandomForestClassifier\n",
        "rf = RandomForestClassifier(random_state=42, n_estimators=5)\n",
        "\n",
        "rf.fit(X_train, y_train)\n",
        "\n",
        "rfScore = rf.score(X_test, y_test)*100\n",
        "\n",
        "\n",
        "print(\"Test accuracy: {}%\".format(rfScore))"
      ],
      "execution_count": 0,
      "outputs": [
        {
          "output_type": "stream",
          "text": [
            "Test accuracy: 100.0%\n"
          ],
          "name": "stdout"
        }
      ]
    },
    {
      "cell_type": "markdown",
      "metadata": {
        "id": "NlNM1v6iu6Gt",
        "colab_type": "text"
      },
      "source": [
        "By dropping 'DM-SNR Kurtosis' column which had very high variance our accuracy increased"
      ]
    },
    {
      "cell_type": "markdown",
      "metadata": {
        "id": "cV7lnhROu6Gu",
        "colab_type": "text"
      },
      "source": [
        "# Does the model make sense?"
      ]
    },
    {
      "cell_type": "markdown",
      "metadata": {
        "id": "BtKn7W50u6Gu",
        "colab_type": "text"
      },
      "source": [
        "After performing hyperparameter tunning, all 3 models (SVM, KNN, and Random Forest) gave us an accuracy above 98%. We considered all the significant variables in order to calculate accuracy. "
      ]
    },
    {
      "cell_type": "markdown",
      "metadata": {
        "id": "PiHr3HpOu6Gu",
        "colab_type": "text"
      },
      "source": [
        "# Which independent variables are significant? and In in multivariate models rank the most significant predictor variables and exclude insignificant ones from the model ?"
      ]
    },
    {
      "cell_type": "markdown",
      "metadata": {
        "id": "3OlXHQjju6Gv",
        "colab_type": "text"
      },
      "source": [
        "If your p-value is less than or equal to the set significance level, the data is considered statistically significant. As a general rule, the significance level (or alpha) is commonly set to 0.05, meaning that the probability of observing the differences seen in your data by chance is just 5%."
      ]
    },
    {
      "cell_type": "markdown",
      "metadata": {
        "id": "FiSidymfu6Gv",
        "colab_type": "text"
      },
      "source": [
        "# Which hyperparameters are important?"
      ]
    },
    {
      "cell_type": "markdown",
      "metadata": {
        "id": "6XDPwZzau6Gv",
        "colab_type": "text"
      },
      "source": [
        "1. SVM: For Support Vector Machine value of C and type of kernal are the important hyperparameters\n",
        "2. KNN: For KNN number of nearest neighbors are important\n",
        "3. RF: For Random Forest n_estimators is the important hyperparameter"
      ]
    },
    {
      "cell_type": "markdown",
      "metadata": {
        "id": "xX4JIwh3u6Gw",
        "colab_type": "text"
      },
      "source": [
        "# 12. Conclusion"
      ]
    },
    {
      "cell_type": "markdown",
      "metadata": {
        "id": "kA0Aze0mu6Gw",
        "colab_type": "text"
      },
      "source": [
        "Preprocessed the given data, checked if the data set have any missing values. There were outliners in the data sets so, as I increase the value of C to limit fewer outliers, the accuracy increased. This is true with different kinds of kernels. I built 3 models and calculated the accuracy for each of them. Compared to the accuracies and the best accuracy we got was 98.51% using the KNN algorithm. Later, checked for the multicollinearity, we found that column 'DM-SNR Kurtosis' had the highest variance. After dropping the column we got 100% accuracy."
      ]
    },
    {
      "cell_type": "markdown",
      "metadata": {
        "id": "oLkR6cCEu6Gx",
        "colab_type": "text"
      },
      "source": [
        "# 13. Citations"
      ]
    },
    {
      "cell_type": "markdown",
      "metadata": {
        "id": "Yw_EH4JLu6Gy",
        "colab_type": "text"
      },
      "source": [
        "1 https://www.kaggle.com/prashant111/svm-classifier-in-python\n",
        "2 https://www.statsmodels.org/dev/diagnostic.html\n",
        "3 https://towardsdatascience.com/verifying-the-assumptions-of-linear-regression-in-python-and-r-f4cd2907d4c0\n",
        "4 https://en.wikipedia.org/wiki/Support-vector_machine\n",
        "5 https://www.datacamp.com/community/tutorials/svm-classification-scikit-learn-python\n",
        "    "
      ]
    },
    {
      "cell_type": "markdown",
      "metadata": {
        "id": "NDdZdBBPu6Gy",
        "colab_type": "text"
      },
      "source": [
        "# 14. License"
      ]
    },
    {
      "cell_type": "markdown",
      "metadata": {
        "id": "g0DqsRz4u6Gz",
        "colab_type": "text"
      },
      "source": [
        "Copyright 2020 Tejaswini Talekar\n",
        "\n",
        "Permission is hereby granted, free of charge, to any person obtaining a copy of this software and associated documentation files (the \"Software\"), to deal in the Software without restriction, including without limitation the rights to use, copy, modify, merge, publish, distribute, sublicense, and/or sell copies of the Software, and to permit persons to whom the Software is furnished to do so, subject to the following conditions:\n",
        "\n",
        "The above copyright notice and this permission notice shall be included in all copies or substantial portions of the Software.\n",
        "\n",
        "THE SOFTWARE IS PROVIDED \"AS IS\", WITHOUT WARRANTY OF ANY KIND, EXPRESS OR IMPLIED, INCLUDING BUT NOT LIMITED TO THE WARRANTIES OF MERCHANTABILITY, FITNESS FOR A PARTICULAR PURPOSE AND NONINFRINGEMENT. IN NO EVENT SHALL THE AUTHORS OR COPYRIGHT HOLDERS BE LIABLE FOR ANY CLAIM, DAMAGES OR OTHER LIABILITY, WHETHER IN AN ACTION OF CONTRACT, TORT OR OTHERWISE, ARISING FROM, OUT OF OR IN CONNECTION WITH THE SOFTWARE OR THE USE OR OTHER DEALINGS IN THE SOFTWARE\n"
      ]
    }
  ]
}